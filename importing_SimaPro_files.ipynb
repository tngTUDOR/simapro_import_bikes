{
 "cells": [
  {
   "cell_type": "markdown",
   "id": "03c7c264-2de6-4936-922b-35a189916e3f",
   "metadata": {},
   "source": [
    "# Importing SimaPro CSV files\n",
    "\n",
    "This notebooks demonstrates how to use the `bw2io.SimaProBlocCSVImporter` to import LCI created in SimaPro into brightway. \n",
    "It uses brightway 2.5.\n",
    "\n",
    "The notebook is split in 2 sections:\n",
    "\n",
    "1. Importing an LCI that only has references (i.e. _Exchanges_) to either Biosphere flows or to itself.\n",
    "2. Importing an LCI that includes references to another \"`library`\" (as SimaPro calls them) like ecoinvent."
   ]
  },
  {
   "cell_type": "code",
   "execution_count": 33,
   "id": "65d750b2-2f65-4ae7-8695-663722d0855f",
   "metadata": {},
   "outputs": [],
   "source": [
    "from pathlib import Path\n",
    "\n",
    "import bw2data as bd\n",
    "import bw2io as bi\n",
    "import bw_simapro_csv # only import it here to printe the version of the module. We will use it through bw2io\n",
    "from pprint import pprint"
   ]
  },
  {
   "cell_type": "code",
   "execution_count": 2,
   "id": "38976aab-2ef8-45d0-bee5-56f252720dfe",
   "metadata": {},
   "outputs": [
    {
     "name": "stdout",
     "output_type": "stream",
     "text": [
      "Using bw2data version: (4, 4)\n",
      "Using bw2io version: 0.9.5\n",
      "Using bw_simapro_csv version: 0.4.2\n"
     ]
    }
   ],
   "source": [
    "print(f\"Using bw2data version: {bd.__version__}\")\n",
    "print(f\"Using bw2io version: {bi.__version__}\")\n",
    "print(f\"Using bw_simapro_csv version: {bw_simapro_csv.__version__}\")"
   ]
  },
  {
   "attachments": {},
   "cell_type": "markdown",
   "id": "ca65f3da-5f9d-4636-b1d8-03721e3c9324",
   "metadata": {},
   "source": [
    "## The imported inventories\n",
    "The LCIs created in simapro mimic the LCI of a bike as depicted in [from the ground up notebooks](https://github.com/brightway-lca/from-the-ground-up/).\n",
    "\n",
    "### Bike\n",
    "The first inventory exported from SimaPro is the [bike_example_no_ei.CSV](bike_example_no_ei.CSV) file. It only includes the following products:\n",
    "\n",
    "+ Bike\n",
    "+ Carbon fibre\n",
    "+ Natural gas\n",
    "\n",
    "and their corresponding \"Processes\":\n",
    "\n",
    "+ Bike production\n",
    "+ CF production\n",
    "+ NG Production\n",
    "\n",
    "Below is a graphical depiction of the supply chain:\n",
    "\n",
    "![supply-chain-simple.png](supply-chain-simple.png)\n",
    "\n",
    "### Bike 2\n",
    "\n",
    "This inventory, additionally includes as input electricity from Norway as an input (i.e. \"_exchange_\") for the `CF production` process.\n",
    "\n"
   ]
  },
  {
   "cell_type": "markdown",
   "id": "2a737fbf-bef1-49a4-9a49-20be4238469b",
   "metadata": {},
   "source": [
    "## Importing LCIs with only self references"
   ]
  },
  {
   "cell_type": "code",
   "execution_count": 3,
   "id": "1711c537-c8c1-4632-9fbf-046a3f1256c0",
   "metadata": {},
   "outputs": [
    {
     "data": {
      "text/plain": [
       "Brightway2 projects manager with 2 objects:\n",
       "\tdefault\n",
       "\tecoinvent311\n",
       "Use `projects.report()` to get a report on all projects."
      ]
     },
     "execution_count": 3,
     "metadata": {},
     "output_type": "execute_result"
    }
   ],
   "source": [
    "bd.projects"
   ]
  },
  {
   "cell_type": "code",
   "execution_count": 4,
   "id": "9289ae75-e4d2-49b0-af39-4646db6e726a",
   "metadata": {},
   "outputs": [
    {
     "data": {
      "text/plain": [
       "Databases dictionary with 4 object(s):\n",
       "\tbike_db\n",
       "\tbike_example\n",
       "\tecoinvent-3.11-biosphere\n",
       "\tecoinvent-3.11-cutoff"
      ]
     },
     "execution_count": 4,
     "metadata": {},
     "output_type": "execute_result"
    }
   ],
   "source": [
    "bd.projects.set_current(\"ecoinvent311\")\n",
    "# This project already includes ecoinvent 3.11 cutoff, which is necessary for section 2\n",
    "bd.databases"
   ]
  },
  {
   "cell_type": "markdown",
   "id": "45cb6be1-0730-404b-bb7f-df41e3944776",
   "metadata": {},
   "source": [
    "### Use the _real_ SimaPro importer that does all the magic\n",
    "\n",
    "Although the `bw_simapro_csv` [package](https://github.com/brightway-lca/bw_simapro_csv) has the main functionalities that parse and interpret the SimaPro CSV, it is not a \"regular\" brightway importer. That is, it does not in clude `strategies` to be applied (for example, to normalize units, or to parse the names of ecoinvent extracting the location from them.\n",
    "\n",
    "The right way to proceed is to use the `bi.SimaProBlockCSVImporter`, apply the strategies and then fiddle the data if there are unlinked exchanges."
   ]
  },
  {
   "cell_type": "code",
   "execution_count": 5,
   "id": "b7831a64-f63c-489d-9688-8a3073acddb6",
   "metadata": {},
   "outputs": [
    {
     "name": "stderr",
     "output_type": "stream",
     "text": [
      "\u001b[32m2025-08-08 07:08:52.390\u001b[0m | \u001b[1mINFO    \u001b[0m | \u001b[36mbw_simapro_csv.main\u001b[0m:\u001b[36m__init__\u001b[0m:\u001b[36m119\u001b[0m - \u001b[1mWriting logs to /root/.local/state/bw_simapro_csv/log/bike_example_no_ei-2025-08-08T07-08-52\u001b[0m\n",
      "\u001b[32m2025-08-08 07:08:52.404\u001b[0m | \u001b[1mINFO    \u001b[0m | \u001b[36mbw_simapro_csv.main\u001b[0m:\u001b[36m__init__\u001b[0m:\u001b[36m142\u001b[0m - \u001b[1mUsing database name 'bike_example'\u001b[0m\n",
      "\u001b[32m2025-08-08 07:08:52.405\u001b[0m | \u001b[1mINFO    \u001b[0m | \u001b[36mbw_simapro_csv.main\u001b[0m:\u001b[36m__init__\u001b[0m:\u001b[36m147\u001b[0m - \u001b[1mSimaPro CSV import started.\n",
      "\tFile: 'bike_example_no_ei.CSV'\n",
      "\tDelimiter: ';'\n",
      "\tName: 'bike_example'\u001b[0m\n",
      "\u001b[32m2025-08-08 07:08:52.408\u001b[0m | \u001b[1mINFO    \u001b[0m | \u001b[36mbw_simapro_csv.main\u001b[0m:\u001b[36mresolve_parameters\u001b[0m:\u001b[36m324\u001b[0m - \u001b[1mExtracted and cleaned 3 process datasets\u001b[0m\n"
     ]
    }
   ],
   "source": [
    "spi = bi.SimaProBlockCSVImporter(Path(\"bike_example_no_ei.CSV\"))"
   ]
  },
  {
   "cell_type": "code",
   "execution_count": 6,
   "id": "deed7c28-0993-4882-ab96-541b56fbe44e",
   "metadata": {},
   "outputs": [
    {
     "name": "stdout",
     "output_type": "stream",
     "text": [
      "Applying strategy: set_metadata_using_single_functional_exchange\n",
      "Applying strategy: override_process_name_using_single_functional_exchange\n",
      "Applying strategy: drop_unspecified_subcategories\n",
      "Applying strategy: split_simapro_name_geo\n",
      "Applying strategy: link_iterable_by_fields\n",
      "Applying strategy: match_internal_simapro_simapro_with_unit_conversion\n",
      "Applied 6 strategies in 0.62 seconds\n"
     ]
    }
   ],
   "source": [
    "# Do some well known changes to data, based on simapro standards by applying the strategies.\n",
    "spi.apply_strategies()"
   ]
  },
  {
   "cell_type": "code",
   "execution_count": 7,
   "id": "4cff094b-ece6-4ab8-86c7-4ac11f420b06",
   "metadata": {},
   "outputs": [
    {
     "name": "stdout",
     "output_type": "stream",
     "text": [
      "Graph statistics for `bike_example` importer:\n",
      "6 graph nodes:\n",
      "\tprocess: 3\n",
      "\tproduct: 3\n",
      "6 graph edges:\n",
      "\tproduction: 3\n",
      "\ttechnosphere: 2\n",
      "\tbiosphere: 1\n",
      "3 edges to the following databases:\n",
      "\tbike_example: 3\n",
      "3 unique unlinked edges (3 total):\n",
      "\ttechnosphere: 2\n",
      "\tbiosphere: 1\n",
      "\n",
      "\n"
     ]
    },
    {
     "data": {
      "text/plain": [
       "(6, 6, 3, 0)"
      ]
     },
     "execution_count": 7,
     "metadata": {},
     "output_type": "execute_result"
    }
   ],
   "source": [
    "# Verify the status of the importer\n",
    "# We must verify here that we have:\n",
    "# 6 graph nodes (3 for the products, 3 for the processes) and \n",
    "# 6 edges (see the supply chain scheme above)\n",
    "spi.statistics()"
   ]
  },
  {
   "cell_type": "markdown",
   "id": "16b8daa3-ba27-4ad1-8fef-523e59c8dce0",
   "metadata": {},
   "source": [
    "At this point, the `spi` importer shows that we have unlinked edges, because we haven't matched yet the data neither to the own database we are trying to import, nor to the `ecoinvent-3.11-biosphere` (nor `ecoinvent-3.11-cutoff`, but this is for section 3)"
   ]
  },
  {
   "cell_type": "markdown",
   "id": "0d6874dc-7fb8-4990-a7cb-f11dce46ce4d",
   "metadata": {},
   "source": [
    "### Matching"
   ]
  },
  {
   "cell_type": "markdown",
   "id": "9e38b1a9-cdca-49e2-a3c6-4eea5a048b02",
   "metadata": {},
   "source": [
    "#### Match the database we are importing against itself"
   ]
  },
  {
   "cell_type": "code",
   "execution_count": 8,
   "id": "2d639b29-18ef-4ab4-acf7-b3f62149e4ad",
   "metadata": {},
   "outputs": [
    {
     "name": "stdout",
     "output_type": "stream",
     "text": [
      "Applying strategy: link_iterable_by_fields\n"
     ]
    }
   ],
   "source": [
    "spi.match_database()"
   ]
  },
  {
   "cell_type": "code",
   "execution_count": 9,
   "id": "2889767a-82d9-4069-a057-7b1b686a2631",
   "metadata": {},
   "outputs": [
    {
     "name": "stdout",
     "output_type": "stream",
     "text": [
      "Graph statistics for `bike_example` importer:\n",
      "6 graph nodes:\n",
      "\tprocess: 3\n",
      "\tproduct: 3\n",
      "6 graph edges:\n",
      "\tproduction: 3\n",
      "\ttechnosphere: 2\n",
      "\tbiosphere: 1\n",
      "5 edges to the following databases:\n",
      "\tbike_example: 5\n",
      "1 unique unlinked edges (1 total):\n",
      "\tbiosphere: 1\n",
      "\n",
      "\n"
     ]
    },
    {
     "data": {
      "text/plain": [
       "(6, 6, 1, 0)"
      ]
     },
     "execution_count": 9,
     "metadata": {},
     "output_type": "execute_result"
    }
   ],
   "source": [
    "# We verify again the status of the importer\n",
    "spi.statistics()"
   ]
  },
  {
   "cell_type": "markdown",
   "id": "5c8a07c5-72d2-4d8e-ad18-42aac0b19c3b",
   "metadata": {},
   "source": [
    "At this point, normally, all self references to the database we are importing should be resolved, and we should only have one unlinked edge related to the biosphere."
   ]
  },
  {
   "cell_type": "markdown",
   "id": "9191fa56-733e-498d-8e04-6db190c09a4d",
   "metadata": {},
   "source": [
    "#### Match against the biosphere"
   ]
  },
  {
   "cell_type": "code",
   "execution_count": 10,
   "id": "7f7c8f4b-7e81-49da-a927-68e4fd807bc7",
   "metadata": {},
   "outputs": [
    {
     "name": "stdout",
     "output_type": "stream",
     "text": [
      "Applying strategy: link_iterable_by_fields\n"
     ]
    }
   ],
   "source": [
    "spi.match_database(\"ecoinvent-3.11-biosphere\")"
   ]
  },
  {
   "cell_type": "code",
   "execution_count": 11,
   "id": "5065ce68-ac59-401b-b0c1-1b14e4ec24f7",
   "metadata": {},
   "outputs": [
    {
     "name": "stdout",
     "output_type": "stream",
     "text": [
      "Graph statistics for `bike_example` importer:\n",
      "6 graph nodes:\n",
      "\tprocess: 3\n",
      "\tproduct: 3\n",
      "6 graph edges:\n",
      "\tproduction: 3\n",
      "\ttechnosphere: 2\n",
      "\tbiosphere: 1\n",
      "5 edges to the following databases:\n",
      "\tbike_example: 5\n",
      "1 unique unlinked edges (1 total):\n",
      "\tbiosphere: 1\n",
      "\n",
      "\n"
     ]
    },
    {
     "data": {
      "text/plain": [
       "(6, 6, 1, 0)"
      ]
     },
     "execution_count": 11,
     "metadata": {},
     "output_type": "execute_result"
    }
   ],
   "source": [
    "spi.statistics()"
   ]
  },
  {
   "cell_type": "markdown",
   "id": "8359ffb7-1770-40ea-a316-aa86fbec3738",
   "metadata": {},
   "source": [
    "At this point, we know there is one biosphere flow that was not automagically matched before.\n",
    "We can print to see which flow it is"
   ]
  },
  {
   "cell_type": "code",
   "execution_count": 12,
   "id": "d6973cf7-b4bf-4f20-b72f-78d508aaac8e",
   "metadata": {},
   "outputs": [
    {
     "name": "stdout",
     "output_type": "stream",
     "text": [
      "{'name': 'Carbon dioxide', 'context': ('Emissions to air', ''), 'unit': 'kg', 'line_no': 229, 'amount': 26.6, 'uncertainty type': 0, 'loc': 26.6, 'cas_number': '124-38-9', 'comment': 'Formula: CO2', 'type': 'biosphere'}\n"
     ]
    }
   ],
   "source": [
    "# print the unlinked flows\n",
    "# We know it's CO2\n",
    "for u in spi.unlinked:\n",
    "    print(u)"
   ]
  },
  {
   "cell_type": "code",
   "execution_count": 13,
   "id": "16b08278-4137-4d5f-8e7a-0e940ef9cf15",
   "metadata": {},
   "outputs": [
    {
     "name": "stdout",
     "output_type": "stream",
     "text": [
      "{'categories': ('air',), 'code': '349b29d1-3e58-4c66-98b9-9d1a076efd2e', 'CAS number': '000124-38-9', 'synonyms': ['Carbon dioxide'], 'name': 'Carbon dioxide, fossil', 'database': 'ecoinvent-3.11-biosphere', 'unit': 'kilogram', 'type': 'emission', 'id': 139717284728938584}\n"
     ]
    }
   ],
   "source": [
    "# find CO2 from the biosphere\n",
    "for flow in bd.Database(\"ecoinvent-3.11-biosphere\"):\n",
    "    if \"Carbon dioxide, fossil\" in flow[\"name\"] and flow[\"categories\"] == (\"air\",):\n",
    "        print(flow.as_dict())\n",
    "        co2_flow = flow"
   ]
  },
  {
   "cell_type": "code",
   "execution_count": 14,
   "id": "048b5d83-6737-4f07-a52d-5f14e19c103b",
   "metadata": {},
   "outputs": [],
   "source": [
    "# add as input the CO2 to the exchanges in the imported data\n",
    "for p in spi.data:\n",
    "    for e in p.get(\"exchanges\", []):\n",
    "        if e[\"type\"] == \"biosphere\":\n",
    "            e[\"input\"] = co2_flow.key"
   ]
  },
  {
   "cell_type": "code",
   "execution_count": 15,
   "id": "bb5c9541-d89f-4c50-aea7-7ff2fef9197d",
   "metadata": {},
   "outputs": [
    {
     "name": "stdout",
     "output_type": "stream",
     "text": [
      "Graph statistics for `bike_example` importer:\n",
      "6 graph nodes:\n",
      "\tprocess: 3\n",
      "\tproduct: 3\n",
      "6 graph edges:\n",
      "\tproduction: 3\n",
      "\ttechnosphere: 2\n",
      "\tbiosphere: 1\n",
      "6 edges to the following databases:\n",
      "\tbike_example: 5\n",
      "\tecoinvent-3.11-biosphere: 1\n",
      "0 unique unlinked edges (0 total):\n",
      "\n",
      "\n"
     ]
    },
    {
     "data": {
      "text/plain": [
       "(6, 6, 0, 0)"
      ]
     },
     "execution_count": 15,
     "metadata": {},
     "output_type": "execute_result"
    }
   ],
   "source": [
    "spi.statistics()"
   ]
  },
  {
   "cell_type": "markdown",
   "id": "04848551-03dc-4729-8acd-5df18bc314ba",
   "metadata": {},
   "source": [
    "Now that the importer reports no unlinked edges, we can proceed to write the database and do some first tests."
   ]
  },
  {
   "cell_type": "code",
   "execution_count": 16,
   "id": "c32de583-ad10-4342-9d76-8d8fa50ab870",
   "metadata": {},
   "outputs": [
    {
     "name": "stdout",
     "output_type": "stream",
     "text": [
      "\u001b[2m07:11:53\u001b[0m [\u001b[33m\u001b[1mwarning  \u001b[0m] \u001b[1mNot able to determine geocollections for all datasets. This database is not ready for regionalization.\u001b[0m\n"
     ]
    },
    {
     "name": "stderr",
     "output_type": "stream",
     "text": [
      "100%|███████████████████████████████████████████████████████████████████████████████████████████████████████████████████████████████████████████████████████████████████████████████| 6/6 [00:00<00:00, 7928.74it/s]"
     ]
    },
    {
     "name": "stdout",
     "output_type": "stream",
     "text": [
      "\u001b[2m07:11:53\u001b[0m [\u001b[32m\u001b[1minfo     \u001b[0m] \u001b[1mVacuuming database            \u001b[0m\n"
     ]
    },
    {
     "name": "stderr",
     "output_type": "stream",
     "text": [
      "\n"
     ]
    },
    {
     "name": "stdout",
     "output_type": "stream",
     "text": [
      "Created database: bike_example\n"
     ]
    },
    {
     "data": {
      "text/plain": [
       "Brightway2 SQLiteBackend: bike_example"
      ]
     },
     "execution_count": 16,
     "metadata": {},
     "output_type": "execute_result"
    }
   ],
   "source": [
    "spi.write_database()"
   ]
  },
  {
   "cell_type": "code",
   "execution_count": 18,
   "id": "f97b55f9-2bc6-49e1-b5c1-12514bd395a5",
   "metadata": {},
   "outputs": [
    {
     "name": "stdout",
     "output_type": "stream",
     "text": [
      "'Bike' (p, None, None)\n"
     ]
    }
   ],
   "source": [
    "for p in bd.Database(\"bike_example\"):\n",
    "    if p[\"type\"] == \"product\" and p['name'] == 'Bike':\n",
    "        print(p)        \n",
    "        bike_p = p"
   ]
  },
  {
   "cell_type": "code",
   "execution_count": 19,
   "id": "08c0dd4e-efd4-4c17-b1c2-713b8a77d780",
   "metadata": {},
   "outputs": [],
   "source": [
    "import bw2calc as bc"
   ]
  },
  {
   "cell_type": "code",
   "execution_count": 20,
   "id": "83fe22a4-63e9-4af3-ba31-b5a8490f12e8",
   "metadata": {},
   "outputs": [
    {
     "data": {
      "text/plain": [
       "[('ecoinvent-3.11',\n",
       "  'EF v3.1',\n",
       "  'climate change',\n",
       "  'global warming potential (GWP100)')]"
      ]
     },
     "execution_count": 20,
     "metadata": {},
     "output_type": "execute_result"
    }
   ],
   "source": [
    "ef_method_cc = [m for m in bd.methods if m[1] == \"EF v3.1\" and m[2] == \"climate change\"]\n",
    "ef_method_cc"
   ]
  },
  {
   "cell_type": "code",
   "execution_count": 21,
   "id": "9dd311c1-9aeb-41bb-8542-963f518002b1",
   "metadata": {},
   "outputs": [],
   "source": [
    "functional_unit, data_objs, _ = bd.prepare_lca_inputs(\n",
    "    {bike_p: 1}, method=ef_method_cc[0],remapping=False\n",
    ")"
   ]
  },
  {
   "cell_type": "code",
   "execution_count": 22,
   "id": "b9947b24-4136-412e-ac69-2708eda9d693",
   "metadata": {},
   "outputs": [
    {
     "data": {
      "text/plain": [
       "66.50000095367432"
      ]
     },
     "execution_count": 22,
     "metadata": {},
     "output_type": "execute_result"
    }
   ],
   "source": [
    "lca = bc.LCA(demand=functional_unit, data_objs=data_objs)\n",
    "lca.lci()\n",
    "lca.lcia()\n",
    "lca.score"
   ]
  },
  {
   "cell_type": "markdown",
   "id": "d96d7b1d-3f1c-48d1-8991-690f952985a0",
   "metadata": {},
   "source": [
    "## Importing LCIs with external references"
   ]
  },
  {
   "cell_type": "code",
   "execution_count": 79,
   "id": "6873b1be-5dc7-4c4d-801c-876921bfc3ec",
   "metadata": {},
   "outputs": [
    {
     "name": "stderr",
     "output_type": "stream",
     "text": [
      "\u001b[32m2025-08-08 07:33:09.039\u001b[0m | \u001b[1mINFO    \u001b[0m | \u001b[36mbw_simapro_csv.main\u001b[0m:\u001b[36m__init__\u001b[0m:\u001b[36m119\u001b[0m - \u001b[1mWriting logs to /root/.local/state/bw_simapro_csv/log/bike_example_with_ei-2025-08-08T07-33-09\u001b[0m\n",
      "\u001b[32m2025-08-08 07:33:09.052\u001b[0m | \u001b[1mINFO    \u001b[0m | \u001b[36mbw_simapro_csv.main\u001b[0m:\u001b[36m__init__\u001b[0m:\u001b[36m142\u001b[0m - \u001b[1mUsing database name 'bike_example'\u001b[0m\n",
      "\u001b[32m2025-08-08 07:33:09.052\u001b[0m | \u001b[1mINFO    \u001b[0m | \u001b[36mbw_simapro_csv.main\u001b[0m:\u001b[36m__init__\u001b[0m:\u001b[36m147\u001b[0m - \u001b[1mSimaPro CSV import started.\n",
      "\tFile: 'bike_example_with_ei.CSV'\n",
      "\tDelimiter: ';'\n",
      "\tName: 'bike_example'\u001b[0m\n",
      "\u001b[32m2025-08-08 07:33:09.055\u001b[0m | \u001b[1mINFO    \u001b[0m | \u001b[36mbw_simapro_csv.main\u001b[0m:\u001b[36mresolve_parameters\u001b[0m:\u001b[36m324\u001b[0m - \u001b[1mExtracted and cleaned 4 process datasets\u001b[0m\n"
     ]
    }
   ],
   "source": [
    "ext_spi = bi.SimaProBlockCSVImporter(Path('bike_example_with_ei.CSV'))"
   ]
  },
  {
   "cell_type": "code",
   "execution_count": 80,
   "id": "24db5cae-5da8-4815-b800-86f56e81fd2e",
   "metadata": {},
   "outputs": [
    {
     "name": "stdout",
     "output_type": "stream",
     "text": [
      "Applying strategy: set_metadata_using_single_functional_exchange\n",
      "Applying strategy: override_process_name_using_single_functional_exchange\n",
      "Applying strategy: drop_unspecified_subcategories\n",
      "Applying strategy: split_simapro_name_geo\n",
      "Applying strategy: link_iterable_by_fields\n",
      "Applying strategy: match_internal_simapro_simapro_with_unit_conversion\n",
      "Applied 6 strategies in 0.53 seconds\n"
     ]
    }
   ],
   "source": [
    "#ext_spi.use_ecoinvent_strategies()\n",
    "ext_spi.apply_strategies()"
   ]
  },
  {
   "cell_type": "code",
   "execution_count": 81,
   "id": "d12b4af2-5bd3-4e82-bbe8-a72b33201e2b",
   "metadata": {},
   "outputs": [
    {
     "name": "stdout",
     "output_type": "stream",
     "text": [
      "Graph statistics for `bike_example` importer:\n",
      "8 graph nodes:\n",
      "\tprocess: 4\n",
      "\tproduct: 4\n",
      "9 graph edges:\n",
      "\ttechnosphere: 4\n",
      "\tproduction: 4\n",
      "\tbiosphere: 1\n",
      "4 edges to the following databases:\n",
      "\tbike_example: 4\n",
      "4 unique unlinked edges (5 total):\n",
      "\ttechnosphere: 3\n",
      "\tbiosphere: 1\n",
      "\n",
      "\n"
     ]
    },
    {
     "data": {
      "text/plain": [
       "(8, 9, 5, 0)"
      ]
     },
     "execution_count": 81,
     "metadata": {},
     "output_type": "execute_result"
    }
   ],
   "source": [
    "ext_spi.statistics()"
   ]
  },
  {
   "cell_type": "markdown",
   "id": "c2828489-f7f7-44d4-bc32-875269f14ada",
   "metadata": {},
   "source": [
    "### Match the databases"
   ]
  },
  {
   "cell_type": "code",
   "execution_count": 82,
   "id": "78343c41-bfb9-4a9d-929a-c35625b6492e",
   "metadata": {},
   "outputs": [
    {
     "name": "stdout",
     "output_type": "stream",
     "text": [
      "Applying strategy: link_iterable_by_fields\n"
     ]
    }
   ],
   "source": [
    "# First, against itself\n",
    "ext_spi.match_database()"
   ]
  },
  {
   "cell_type": "code",
   "execution_count": 83,
   "id": "b6fff042-28d0-4bcc-8d35-01a09ba60bf7",
   "metadata": {},
   "outputs": [
    {
     "name": "stdout",
     "output_type": "stream",
     "text": [
      "Graph statistics for `bike_example` importer:\n",
      "8 graph nodes:\n",
      "\tprocess: 4\n",
      "\tproduct: 4\n",
      "9 graph edges:\n",
      "\ttechnosphere: 4\n",
      "\tproduction: 4\n",
      "\tbiosphere: 1\n",
      "7 edges to the following databases:\n",
      "\tbike_example: 7\n",
      "2 unique unlinked edges (2 total):\n",
      "\ttechnosphere: 1\n",
      "\tbiosphere: 1\n",
      "\n",
      "\n"
     ]
    },
    {
     "data": {
      "text/plain": [
       "(8, 9, 2, 0)"
      ]
     },
     "execution_count": 83,
     "metadata": {},
     "output_type": "execute_result"
    }
   ],
   "source": [
    "ext_spi.statistics()"
   ]
  },
  {
   "cell_type": "code",
   "execution_count": 84,
   "id": "e13debc0-d288-4f61-b9e0-fb58478b5119",
   "metadata": {},
   "outputs": [],
   "source": [
    "# add as input the CO2 to the exchanges in the imported data\n",
    "for p in ext_spi.data:\n",
    "    for e in p.get(\"exchanges\", []):\n",
    "        if e[\"type\"] == \"biosphere\":\n",
    "            e[\"input\"] = co2_flow.key\n",
    "            e[\"categories\"] = co2_flow['categories']"
   ]
  },
  {
   "cell_type": "code",
   "execution_count": 85,
   "id": "28243094-18f5-4d94-b9db-41340dc764f4",
   "metadata": {},
   "outputs": [
    {
     "name": "stdout",
     "output_type": "stream",
     "text": [
      "Applying strategy: link_iterable_by_fields\n",
      "Graph statistics for `bike_example` importer:\n",
      "8 graph nodes:\n",
      "\tprocess: 4\n",
      "\tproduct: 4\n",
      "9 graph edges:\n",
      "\ttechnosphere: 4\n",
      "\tproduction: 4\n",
      "\tbiosphere: 1\n",
      "8 edges to the following databases:\n",
      "\tbike_example: 7\n",
      "\tecoinvent-3.11-biosphere: 1\n",
      "1 unique unlinked edges (1 total):\n",
      "\ttechnosphere: 1\n",
      "\n",
      "\n"
     ]
    },
    {
     "data": {
      "text/plain": [
       "(8, 9, 1, 0)"
      ]
     },
     "execution_count": 85,
     "metadata": {},
     "output_type": "execute_result"
    }
   ],
   "source": [
    "ext_spi.match_database('ecoinvent-3.11-cutoff', fields=[\"name\", \"unit\", \"location\", \"reference product\"])\n",
    "ext_spi.statistics()"
   ]
  },
  {
   "cell_type": "code",
   "execution_count": 86,
   "id": "7989989c-87f8-4123-8e58-468cc6095eaa",
   "metadata": {},
   "outputs": [
    {
     "name": "stdout",
     "output_type": "stream",
     "text": [
      "Applying strategy: set_metadata_using_single_functional_exchange\n",
      "Applying strategy: drop_unspecified_subcategories\n",
      "Applying strategy: normalize_units\n",
      "Applying strategy: update_ecoinvent_locations\n",
      "Applying strategy: split_simapro_name_geo\n",
      "Applying strategy: strip_biosphere_exc_locations\n",
      "Applying strategy: migrate_datasets\n",
      "Applying strategy: migrate_exchanges\n",
      "Applying strategy: set_code_by_activity_hash\n",
      "Applying strategy: change_electricity_unit_mj_to_kwh\n",
      "Applying strategy: link_technosphere_based_on_name_unit_location\n",
      "Applying strategy: normalize_biosphere_categories\n",
      "Applying strategy: normalize_simapro_biosphere_categories\n",
      "Applying strategy: normalize_biosphere_names\n",
      "Applying strategy: normalize_simapro_biosphere_names\n",
      "Applying strategy: migrate_exchanges\n",
      "Applying strategy: fix_localized_water_flows\n",
      "Applying strategy: link_iterable_by_fields\n",
      "Applied 18 strategies in 0.21 seconds\n"
     ]
    }
   ],
   "source": [
    "ext_spi.use_ecoinvent_strategies()\n",
    "ext_spi.apply_strategies()"
   ]
  },
  {
   "cell_type": "code",
   "execution_count": 87,
   "id": "6db405ee-0f1f-4b08-9f99-d4b2c7de0f17",
   "metadata": {},
   "outputs": [
    {
     "name": "stdout",
     "output_type": "stream",
     "text": [
      "Graph statistics for `bike_example` importer:\n",
      "8 graph nodes:\n",
      "\tprocess: 4\n",
      "\tproduct: 4\n",
      "9 graph edges:\n",
      "\ttechnosphere: 4\n",
      "\tproduction: 4\n",
      "\tbiosphere: 1\n",
      "8 edges to the following databases:\n",
      "\tbike_example: 7\n",
      "\tecoinvent-3.11-biosphere: 1\n",
      "1 unique unlinked edges (1 total):\n",
      "\ttechnosphere: 1\n",
      "\n",
      "\n"
     ]
    },
    {
     "data": {
      "text/plain": [
       "(8, 9, 1, 0)"
      ]
     },
     "execution_count": 87,
     "metadata": {},
     "output_type": "execute_result"
    }
   ],
   "source": [
    "ext_spi.statistics()"
   ]
  },
  {
   "cell_type": "markdown",
   "id": "6bcf452a-df77-4322-9a9e-7166ed5f1002",
   "metadata": {},
   "source": [
    "The biosphere flow seems to be well replaced, but now the only technosphere flow is missing (presumable the one from ecoinvent).\n",
    "Let's look at it in detail."
   ]
  },
  {
   "cell_type": "code",
   "execution_count": 88,
   "id": "a5664380-24f7-4d97-bc42-a47742f1e371",
   "metadata": {},
   "outputs": [
    {
     "name": "stdout",
     "output_type": "stream",
     "text": [
      "{'amount': 40.0,\n",
      " 'comment': '',\n",
      " 'line_no': 225,\n",
      " 'loc': 40.0,\n",
      " 'name': 'Electricity, medium voltage {NO}| market for electricity, medium '\n",
      "         'voltage | Cut-off, U',\n",
      " 'original unit before conversion': 'kWh',\n",
      " 'simapro_category': 'Materials/fuels',\n",
      " 'type': 'technosphere',\n",
      " 'uncertainty type': 0,\n",
      " 'unit': 'kilowatt hour',\n",
      " 'unit conversion factor': 3.6}\n"
     ]
    }
   ],
   "source": [
    "for u in ext_spi.unlinked:\n",
    "    pprint(u)"
   ]
  },
  {
   "cell_type": "code",
   "execution_count": 89,
   "id": "489fbc45-1129-4f88-97e8-bd13eaf01a59",
   "metadata": {},
   "outputs": [
    {
     "name": "stdout",
     "output_type": "stream",
     "text": [
      "Applying strategy: link_iterable_by_fields\n"
     ]
    }
   ],
   "source": [
    "ext_spi.match_database('ecoinvent-3.11-cutoff')"
   ]
  },
  {
   "cell_type": "code",
   "execution_count": 90,
   "id": "5ed67da7-301e-4bdd-97dc-b9f0188f1bfd",
   "metadata": {},
   "outputs": [
    {
     "name": "stdout",
     "output_type": "stream",
     "text": [
      "Graph statistics for `bike_example` importer:\n",
      "8 graph nodes:\n",
      "\tprocess: 4\n",
      "\tproduct: 4\n",
      "9 graph edges:\n",
      "\ttechnosphere: 4\n",
      "\tproduction: 4\n",
      "\tbiosphere: 1\n",
      "8 edges to the following databases:\n",
      "\tbike_example: 7\n",
      "\tecoinvent-3.11-biosphere: 1\n",
      "1 unique unlinked edges (1 total):\n",
      "\ttechnosphere: 1\n",
      "\n",
      "\n"
     ]
    },
    {
     "data": {
      "text/plain": [
       "(8, 9, 1, 0)"
      ]
     },
     "execution_count": 90,
     "metadata": {},
     "output_type": "execute_result"
    }
   ],
   "source": [
    "ext_spi.statistics()"
   ]
  },
  {
   "cell_type": "code",
   "execution_count": 92,
   "id": "035477cc-fa91-4d8e-b4eb-ae8fd302c631",
   "metadata": {},
   "outputs": [
    {
     "name": "stdout",
     "output_type": "stream",
     "text": [
      "Wrote matching file to:\n",
      "/root/.local/share/Brightway3/ecoinvent311.bf5aadba/output/db-matching-bike_example.xlsx\n"
     ]
    }
   ],
   "source": [
    "resulting_excel = ext_spi.write_excel()"
   ]
  },
  {
   "cell_type": "code",
   "execution_count": 93,
   "id": "8d02dc6a-cc00-4ddf-bc16-a9dd841be11e",
   "metadata": {},
   "outputs": [],
   "source": [
    "import shutil\n",
    "import os"
   ]
  },
  {
   "cell_type": "code",
   "execution_count": 96,
   "id": "e9bc5e04-5e8a-4a17-b907-0f845eef449f",
   "metadata": {},
   "outputs": [
    {
     "name": "stdout",
     "output_type": "stream",
     "text": [
      "Copied /root/.local/share/Brightway3/ecoinvent311.bf5aadba/output/db-matching-bike_example.xlsx to /opt/app/db-matching-bike_example.xlsx\n"
     ]
    }
   ],
   "source": [
    "# Destination is the current working directory\n",
    "destination = Path.cwd() / resulting_excel.name\n",
    "\n",
    "# Copy the file\n",
    "shutil.copy(resulting_excel, destination)\n",
    "\n",
    "print(f\"Copied {resulting_excel} to {destination}\")"
   ]
  },
  {
   "cell_type": "code",
   "execution_count": 97,
   "id": "0c409be9-96cf-468f-9aa7-0300ccb1d369",
   "metadata": {},
   "outputs": [],
   "source": [
    "# Find the electricity dataset we want\n",
    "ei_db = bd.Database('ecoinvent-3.11-cutoff')"
   ]
  },
  {
   "cell_type": "code",
   "execution_count": 108,
   "id": "13ac5e29-3f87-4c21-b97c-c44cb09289c0",
   "metadata": {},
   "outputs": [
    {
     "name": "stdout",
     "output_type": "stream",
     "text": [
      "'market for electricity, medium voltage' (kilowatt hour, NO, None)\n"
     ]
    }
   ],
   "source": [
    "results = ei_db.search('market for electricity, medium voltage', limit=10000)\n",
    "for r in results:\n",
    "    if r['location'] == 'NO' and 'market for electricity, medium voltage' == r['name']:\n",
    "        print(r)"
   ]
  },
  {
   "cell_type": "code",
   "execution_count": 118,
   "id": "9eba5224-8a5e-4e6e-bb4e-e2bab0b28adc",
   "metadata": {},
   "outputs": [],
   "source": [
    "for d in ext_spi.data:\n",
    "    if 'exchanges' in d:\n",
    "        for exc in d['exchanges']:            \n",
    "            if exc['name'] == 'Electricity, medium voltage {NO}| market for electricity, medium voltage | Cut-off, U':\n",
    "                print(exc)\n",
    "                # add the input as it should\n",
    "                exc['name'] = r['name']\n",
    "                exc['input'] = r.key\n",
    "        "
   ]
  },
  {
   "cell_type": "code",
   "execution_count": 119,
   "id": "474372b5-c203-4267-b007-463f39166074",
   "metadata": {},
   "outputs": [
    {
     "name": "stdout",
     "output_type": "stream",
     "text": [
      "Graph statistics for `bike_example` importer:\n",
      "6 graph nodes:\n",
      "\tprocess: 3\n",
      "\tproduct: 3\n",
      "6 graph edges:\n",
      "\tproduction: 3\n",
      "\ttechnosphere: 2\n",
      "\tbiosphere: 1\n",
      "6 edges to the following databases:\n",
      "\tbike_example: 5\n",
      "\tecoinvent-3.11-biosphere: 1\n",
      "0 unique unlinked edges (0 total):\n",
      "\n",
      "\n"
     ]
    },
    {
     "data": {
      "text/plain": [
       "(6, 6, 0, 0)"
      ]
     },
     "execution_count": 119,
     "metadata": {},
     "output_type": "execute_result"
    }
   ],
   "source": [
    "spi.statistics()"
   ]
  },
  {
   "cell_type": "code",
   "execution_count": 120,
   "id": "c3f9511c-51ad-42c7-bc14-e1e9b6f18ee9",
   "metadata": {},
   "outputs": [
    {
     "name": "stdout",
     "output_type": "stream",
     "text": [
      "\u001b[2m07:47:54\u001b[0m [\u001b[33m\u001b[1mwarning  \u001b[0m] \u001b[1mNot able to determine geocollections for all datasets. This database is not ready for regionalization.\u001b[0m\n"
     ]
    },
    {
     "name": "stderr",
     "output_type": "stream",
     "text": [
      "100%|███████████████████████████████████████████████████████████████████████████████████████████████████████████████████████████████████████████████████████████████████████████████| 6/6 [00:00<00:00, 6400.26it/s]"
     ]
    },
    {
     "name": "stdout",
     "output_type": "stream",
     "text": [
      "\u001b[2m07:47:54\u001b[0m [\u001b[32m\u001b[1minfo     \u001b[0m] \u001b[1mVacuuming database            \u001b[0m\n"
     ]
    },
    {
     "name": "stderr",
     "output_type": "stream",
     "text": [
      "\n"
     ]
    },
    {
     "name": "stdout",
     "output_type": "stream",
     "text": [
      "Created database: bike_example\n"
     ]
    },
    {
     "data": {
      "text/plain": [
       "Brightway2 SQLiteBackend: bike_example"
      ]
     },
     "execution_count": 120,
     "metadata": {},
     "output_type": "execute_result"
    }
   ],
   "source": [
    "spi.write_database()"
   ]
  }
 ],
 "metadata": {
  "jupytext": {
   "formats": "py:percent,ipynb"
  },
  "kernelspec": {
   "display_name": "Python 3 (ipykernel)",
   "language": "python",
   "name": "python3"
  },
  "language_info": {
   "codemirror_mode": {
    "name": "ipython",
    "version": 3
   },
   "file_extension": ".py",
   "mimetype": "text/x-python",
   "name": "python",
   "nbconvert_exporter": "python",
   "pygments_lexer": "ipython3",
   "version": "3.12.8"
  }
 },
 "nbformat": 4,
 "nbformat_minor": 5
}
